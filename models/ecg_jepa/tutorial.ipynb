{
 "cells": [
  {
   "cell_type": "markdown",
   "metadata": {},
   "source": [
    "In this tutoral, we demonstrate\n",
    "1. how to load the pretrained model\n",
    "2. how to compute the representation of the ECG"
   ]
  },
  {
   "cell_type": "markdown",
   "metadata": {},
   "source": [
    "# Load the pretrained model"
   ]
  },
  {
   "cell_type": "code",
   "execution_count": 1,
   "metadata": {},
   "outputs": [
    {
     "name": "stderr",
     "output_type": "stream",
     "text": [
      "/home/shunhun33/anaconda3/envs/ecg_jepa/lib/python3.9/site-packages/tqdm/auto.py:21: TqdmWarning: IProgress not found. Please update jupyter and ipywidgets. See https://ipywidgets.readthedocs.io/en/stable/user_install.html\n",
      "  from .autonotebook import tqdm as notebook_tqdm\n"
     ]
    }
   ],
   "source": [
    "import numpy as np\n",
    "import torch\n",
    "from models import load_encoder\n",
    "\n",
    "# Load the encoder \n",
    "ckpt_dir = './weights/multiblock_epoch100.pth'  # See https://github.com/sehunfromdaegu/ECG_JEPA for checkpoint download link \n",
    "encoder, dim = load_encoder(ckpt_dir=ckpt_dir) # dim is the dimension of the latent space"
   ]
  },
  {
   "cell_type": "markdown",
   "metadata": {},
   "source": [
    "# Dataloader construction"
   ]
  },
  {
   "cell_type": "code",
   "execution_count": 2,
   "metadata": {},
   "outputs": [],
   "source": [
    "from ecg_data import ECGDataset, ECGDataset_pretrain\n",
    "\n",
    "# Dummy ECG data\n",
    "n_samples = 32\n",
    "waves = np.random.randn(n_samples, 8, 2500) # n_samples, 8 leads, 2500 timesteps \n",
    "labels = np.random.randint(0, 2, 32)\n",
    "\n",
    "# Dataset with labels.\n",
    "dataset_with_labels = ECGDataset(waves, labels)\n",
    "\n",
    "# Dataset without labels. If you want to compute the representations without label information, use this.\n",
    "dataset_wo_labels = ECGDataset_pretrain(waves)\n",
    "\n",
    "# Create a dataloader\n",
    "dataloader_with_labels = torch.utils.data.DataLoader(dataset_with_labels, batch_size=4, shuffle=True)\n",
    "dataloader_wo_labels = torch.utils.data.DataLoader(dataset_wo_labels, batch_size=4, shuffle=True)\n",
    "\n"
   ]
  },
  {
   "cell_type": "markdown",
   "metadata": {},
   "source": [
    "# Compute the ECG representations"
   ]
  },
  {
   "cell_type": "code",
   "execution_count": 3,
   "metadata": {},
   "outputs": [
    {
     "name": "stdout",
     "output_type": "stream",
     "text": [
      "Representation shape: torch.Size([4, 768])\n"
     ]
    }
   ],
   "source": [
    "for wave, target in dataloader_with_labels:\n",
    "    repr = encoder.representation(wave) # (bs, 8, 2500) -> (bs, dim)\n",
    "    print(f'Representation shape: {repr.shape}')    \n",
    "    break\n",
    "\n",
    "for wave in dataloader_wo_labels:\n",
    "    repr = encoder.representation(wave)\n",
    "    break\n",
    "\n",
    "\n"
   ]
  }
 ],
 "metadata": {
  "kernelspec": {
   "display_name": "ecg_jepa",
   "language": "python",
   "name": "python3"
  },
  "language_info": {
   "codemirror_mode": {
    "name": "ipython",
    "version": 3
   },
   "file_extension": ".py",
   "mimetype": "text/x-python",
   "name": "python",
   "nbconvert_exporter": "python",
   "pygments_lexer": "ipython3",
   "version": "3.9.20"
  }
 },
 "nbformat": 4,
 "nbformat_minor": 2
}
